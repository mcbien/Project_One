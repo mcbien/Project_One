{
 "cells": [
  {
   "cell_type": "code",
   "execution_count": 41,
   "metadata": {},
   "outputs": [],
   "source": [
    "#Import necessary libraries\n",
    "import pandas as pd\n",
    "import os\n",
    "import requests\n",
    "import numpy as np\n",
    "import requests\n",
    "from pprint import pprint\n",
    "import json\n",
    "import gmaps\n",
    "import matplotlib.pyplot as plt\n",
    "import numpy as np\n",
    "\n",
    "# Import API key\n",
    "from api_keys import g_key\n",
    "\n",
    "import datetime\n",
    "from scipy.stats import linregress"
   ]
  },
  {
   "cell_type": "code",
   "execution_count": 42,
   "metadata": {},
   "outputs": [
    {
     "data": {
      "text/html": [
       "<div>\n",
       "<style scoped>\n",
       "    .dataframe tbody tr th:only-of-type {\n",
       "        vertical-align: middle;\n",
       "    }\n",
       "\n",
       "    .dataframe tbody tr th {\n",
       "        vertical-align: top;\n",
       "    }\n",
       "\n",
       "    .dataframe thead th {\n",
       "        text-align: right;\n",
       "    }\n",
       "</style>\n",
       "<table border=\"1\" class=\"dataframe\">\n",
       "  <thead>\n",
       "    <tr style=\"text-align: right;\">\n",
       "      <th></th>\n",
       "      <th>2018 GDP (Trillions USD)</th>\n",
       "      <th>JH Deaths</th>\n",
       "      <th>Area (mi2)</th>\n",
       "      <th>Population</th>\n",
       "      <th>Population Density (mi2)</th>\n",
       "      <th>Lat</th>\n",
       "      <th>Lng</th>\n",
       "    </tr>\n",
       "  </thead>\n",
       "  <tbody>\n",
       "    <tr>\n",
       "      <th>count</th>\n",
       "      <td>173.000000</td>\n",
       "      <td>173.000000</td>\n",
       "      <td>1.730000e+02</td>\n",
       "      <td>173.000000</td>\n",
       "      <td>173.000000</td>\n",
       "      <td>173.000000</td>\n",
       "      <td>173.000000</td>\n",
       "    </tr>\n",
       "    <tr>\n",
       "      <th>mean</th>\n",
       "      <td>485.248555</td>\n",
       "      <td>6483.676301</td>\n",
       "      <td>2.866351e+05</td>\n",
       "      <td>42.718178</td>\n",
       "      <td>808.881156</td>\n",
       "      <td>20.100222</td>\n",
       "      <td>16.440287</td>\n",
       "    </tr>\n",
       "    <tr>\n",
       "      <th>std</th>\n",
       "      <td>1968.351140</td>\n",
       "      <td>24266.639495</td>\n",
       "      <td>7.818937e+05</td>\n",
       "      <td>152.880602</td>\n",
       "      <td>4048.822139</td>\n",
       "      <td>24.484442</td>\n",
       "      <td>57.841837</td>\n",
       "    </tr>\n",
       "    <tr>\n",
       "      <th>min</th>\n",
       "      <td>0.000000</td>\n",
       "      <td>0.000000</td>\n",
       "      <td>7.800000e-01</td>\n",
       "      <td>0.034641</td>\n",
       "      <td>5.400000</td>\n",
       "      <td>-41.829454</td>\n",
       "      <td>-112.494334</td>\n",
       "    </tr>\n",
       "    <tr>\n",
       "      <th>25%</th>\n",
       "      <td>13.000000</td>\n",
       "      <td>46.000000</td>\n",
       "      <td>1.108200e+04</td>\n",
       "      <td>2.413643</td>\n",
       "      <td>93.000000</td>\n",
       "      <td>4.516800</td>\n",
       "      <td>-8.396407</td>\n",
       "    </tr>\n",
       "    <tr>\n",
       "      <th>50%</th>\n",
       "      <td>42.000000</td>\n",
       "      <td>224.000000</td>\n",
       "      <td>5.525100e+04</td>\n",
       "      <td>9.397800</td>\n",
       "      <td>211.000000</td>\n",
       "      <td>18.155195</td>\n",
       "      <td>19.394358</td>\n",
       "    </tr>\n",
       "    <tr>\n",
       "      <th>75%</th>\n",
       "      <td>245.000000</td>\n",
       "      <td>1654.000000</td>\n",
       "      <td>2.100260e+05</td>\n",
       "      <td>30.280811</td>\n",
       "      <td>520.000000</td>\n",
       "      <td>41.461831</td>\n",
       "      <td>43.744674</td>\n",
       "    </tr>\n",
       "    <tr>\n",
       "      <th>max</th>\n",
       "      <td>20500.000000</td>\n",
       "      <td>223264.000000</td>\n",
       "      <td>6.612093e+06</td>\n",
       "      <td>1404.484040</td>\n",
       "      <td>49107.000000</td>\n",
       "      <td>68.795828</td>\n",
       "      <td>171.462581</td>\n",
       "    </tr>\n",
       "  </tbody>\n",
       "</table>\n",
       "</div>"
      ],
      "text/plain": [
       "       2018 GDP (Trillions USD)      JH Deaths    Area (mi2)   Population  \\\n",
       "count                173.000000     173.000000  1.730000e+02   173.000000   \n",
       "mean                 485.248555    6483.676301  2.866351e+05    42.718178   \n",
       "std                 1968.351140   24266.639495  7.818937e+05   152.880602   \n",
       "min                    0.000000       0.000000  7.800000e-01     0.034641   \n",
       "25%                   13.000000      46.000000  1.108200e+04     2.413643   \n",
       "50%                   42.000000     224.000000  5.525100e+04     9.397800   \n",
       "75%                  245.000000    1654.000000  2.100260e+05    30.280811   \n",
       "max                20500.000000  223264.000000  6.612093e+06  1404.484040   \n",
       "\n",
       "       Population Density (mi2)         Lat         Lng  \n",
       "count                173.000000  173.000000  173.000000  \n",
       "mean                 808.881156   20.100222   16.440287  \n",
       "std                 4048.822139   24.484442   57.841837  \n",
       "min                    5.400000  -41.829454 -112.494334  \n",
       "25%                   93.000000    4.516800   -8.396407  \n",
       "50%                  211.000000   18.155195   19.394358  \n",
       "75%                  520.000000   41.461831   43.744674  \n",
       "max                49107.000000   68.795828  171.462581  "
      ]
     },
     "execution_count": 42,
     "metadata": {},
     "output_type": "execute_result"
    }
   ],
   "source": [
    "# import clean_country_data.csv from file\n",
    "filename = os.path.join(\"clean_data_files\",\"clean_data_by_country.csv\")\n",
    "country_data  = pd.read_csv(filename)\n",
    "del country_data[\"Unnamed: 0\"]\n",
    "del country_data[\"JH Confirmed\"]\n",
    "del country_data[\"JH Recovered\"]\n",
    "country_data.describe()"
   ]
  },
  {
   "cell_type": "code",
   "execution_count": 43,
   "metadata": {},
   "outputs": [
    {
     "data": {
      "text/plain": [
       "Country Name                 object\n",
       "Country Code                 object\n",
       "2018 GDP (Trillions USD)    float64\n",
       "JH Deaths                   float64\n",
       "Area (mi2)                  float64\n",
       "Population (M)              float64\n",
       "Population Density (mi2)    float64\n",
       "Lat                         float64\n",
       "Lng                         float64\n",
       "JH Deaths/K                 float64\n",
       "% Total Deaths              float64\n",
       "dtype: object"
      ]
     },
     "execution_count": 43,
     "metadata": {},
     "output_type": "execute_result"
    }
   ],
   "source": [
    "# Formatting and renaming\n",
    "country_data[\"JH Deaths/K\"] = country_data[\"JH Deaths\"]/1000\n",
    "country_data[\"% Total Deaths\"] = country_data[\"JH Deaths\"]/country_data[\"JH Deaths\"].sum()\n",
    "country_data.rename(columns={\"Population\": \"Population (M)\"}, inplace=True)\n",
    "country_data.dtypes"
   ]
  },
  {
   "cell_type": "code",
   "execution_count": 48,
   "metadata": {
    "scrolled": true
   },
   "outputs": [
    {
     "data": {
      "application/vnd.jupyter.widget-view+json": {
       "model_id": "850704f9a8054fcc84aa787d34bf3a22",
       "version_major": 2,
       "version_minor": 0
      },
      "text/plain": [
       "Figure(layout=FigureLayout(height='420px'))"
      ]
     },
     "metadata": {},
     "output_type": "display_data"
    }
   ],
   "source": [
    "#Create gmap visualization of COVID deaths by country\n",
    "# access maps with unique API key\n",
    "gmaps.configure(api_key=g_key)\n",
    "locations = country_data[[\"Lat\",\"Lng\"]]\n",
    "JH_deaths = country_data[\"JH Deaths\"]\n",
    "GDP = country_data[\"2018 GDP (Trillions USD)\"]\n",
    "# create intial gmap figure\n",
    "fig = gmaps.figure()\n",
    "# add heatmap layer\n",
    "death_layer = gmaps.heatmap_layer(locations, weights=JH_deaths, dissipating=False, max_intensity=1000, point_radius=0.9)\n",
    "GDP_layer = gmaps.heatmap_layer(locations, weights=GDP, dissipating=True, max_intensity=1000, point_radius=15)\n",
    "# add heatmap layer to figure\n",
    "fig.add_layer(death_layer)\n",
    "fig.add_layer(GDP_layer)\n",
    "# Display the figure\n",
    "fig"
   ]
  },
  {
   "cell_type": "code",
   "execution_count": 36,
   "metadata": {},
   "outputs": [
    {
     "name": "stdout",
     "output_type": "stream",
     "text": [
      "r = 0.36328672479379637\n"
     ]
    },
    {
     "data": {
      "image/png": "[encoded data removed]",
      "text/plain": [
       "<Figure size 432x288 with 1 Axes>"
      ]
     },
     "metadata": {
      "needs_background": "light"
     },
     "output_type": "display_data"
    }
   ],
   "source": [
    "# Deaths vs Population\n",
    "x_data = country_data[\"JH Deaths\"]\n",
    "y_data = country_data[\"Population (M)\"]\n",
    "plt.scatter(x=x_data, y=y_data, marker=\"o\",facecolors=\"lightblue\",edgecolors=\"darkblue\")\n",
    "today = pd.to_datetime('today')\n",
    "plt.title(f\"COVID: Deaths vs. Population ({today.month}/{today.day}/{today.year})\")\n",
    "plt.xlabel(\"Deaths/K\")\n",
    "plt.ylabel(\"Population (M)\")\n",
    "# Run the regression and store each of the returned values\n",
    "slope, intercept, rvalue, pvalue, stderr = linregress(x_data, y_data)\n",
    "# Calculate the predictions for each value of x (# Rooms)\n",
    "regression_values = x_data * slope + intercept\n",
    "# store a string version of the linear equation, so we can display it on the plot\n",
    "line_eq = \"y = \" + str(round(slope,2)) + \"x + \" + str(round(intercept,2))\n",
    "plt.plot(x_data, regression_values, \"red\")\n",
    "# add line equation to plot\n",
    "plt.annotate(line_eq, (7.5, 1000), fontsize=15, color=\"red\")\n",
    "# add pearson's r value to plot \n",
    "print(f\"r = {rvalue}\")\n",
    "# output plot to file\n",
    "# output_path_fig5 = os.path.join(\"..\",\"output_data\",\"fig5.png\")\n",
    "# plt.savefig(output_path_fig5)"
   ]
  },
  {
   "cell_type": "code",
   "execution_count": 39,
   "metadata": {},
   "outputs": [
    {
     "name": "stdout",
     "output_type": "stream",
     "text": [
      "r = -0.03213604573554339\n"
     ]
    },
    {
     "data": {
      "image/png": "[encoded data removed]",
      "text/plain": [
       "<Figure size 432x288 with 1 Axes>"
      ]
     },
     "metadata": {
      "needs_background": "light"
     },
     "output_type": "display_data"
    }
   ],
   "source": [
    "# Deaths vs Population Density\n",
    "x_data = country_data[\"JH Deaths\"]\n",
    "y_data = country_data[\"Population Density (mi2)\"]\n",
    "plt.scatter(x=x_data, y=y_data, marker=\"o\",facecolors=\"lightblue\",edgecolors=\"darkblue\")\n",
    "today = pd.to_datetime('today')\n",
    "plt.title(f\"COVID: Deaths vs. Population Density ({today.month}/{today.day}/{today.year})\")\n",
    "plt.xlabel(\"Deaths/K\")\n",
    "plt.ylabel(\"Population Density (mi2)\")\n",
    "# Run the regression and store each of the returned values\n",
    "slope, intercept, rvalue, pvalue, stderr = linregress(x_data, y_data)\n",
    "# Calculate the predictions for each value of x (# Rooms)\n",
    "regression_values = x_data * slope + intercept\n",
    "# store a string version of the linear equation, so we can display it on the plot\n",
    "line_eq = \"y = \" + str(round(slope,2)) + \"x + \" + str(round(intercept,2))\n",
    "plt.plot(x_data, regression_values, \"red\")\n",
    "# add line equation to plot\n",
    "plt.annotate(line_eq, (7.5, 30000), fontsize=15, color=\"red\")\n",
    "# add pearson's r value to plot \n",
    "print(f\"r = {rvalue}\")\n",
    "# output plot to file\n",
    "# output_path_fig5 = os.path.join(\"..\",\"output_data\",\"fig5.png\")\n",
    "# plt.savefig(output_path_fig5)"
   ]
  },
  {
   "cell_type": "code",
   "execution_count": 40,
   "metadata": {},
   "outputs": [
    {
     "name": "stdout",
     "output_type": "stream",
     "text": [
      "r = 0.6746545168133808\n"
     ]
    },
    {
     "data": {
      "image/png": "[encoded data removed]",
      "text/plain": [
       "<Figure size 432x288 with 1 Axes>"
      ]
     },
     "metadata": {
      "needs_background": "light"
     },
     "output_type": "display_data"
    }
   ],
   "source": [
    "# Deaths vs Population Density\n",
    "x_data = country_data[\"JH Deaths\"]\n",
    "y_data = country_data[\"2018 GDP ($MM USD)\"]\n",
    "plt.scatter(x=x_data, y=y_data, marker=\"o\",facecolors=\"lightblue\",edgecolors=\"darkblue\")\n",
    "today = pd.to_datetime('today')\n",
    "plt.title(f\"COVID: Deaths vs. Population ({today.month}/{today.day}/{today.year})\")\n",
    "plt.xlabel(\"Deaths/K\")\n",
    "plt.ylabel(\"2018 GDP ($MM USD)\")\n",
    "# Run the regression and store each of the returned values\n",
    "slope, intercept, rvalue, pvalue, stderr = linregress(x_data, y_data)\n",
    "# Calculate the predictions for each value of x (# Rooms)\n",
    "regression_values = x_data * slope + intercept\n",
    "# store a string version of the linear equation, so we can display it on the plot\n",
    "line_eq = \"y = \" + str(round(slope,2)) + \"x + \" + str(round(intercept,2))\n",
    "plt.plot(x_data, regression_values, \"red\")\n",
    "# add line equation to plot\n",
    "plt.annotate(line_eq, (7.5, 30000), fontsize=15, color=\"red\")\n",
    "# add pearson's r value to plot \n",
    "print(f\"r = {rvalue}\")\n",
    "# output plot to file\n",
    "# output_path_fig5 = os.path.join(\"..\",\"output_data\",\"fig5.png\")\n",
    "# plt.savefig(output_path_fig5)"
   ]
  },
  {
   "cell_type": "code",
   "execution_count": null,
   "metadata": {},
   "outputs": [],
   "source": []
  }
 ],
 "metadata": {
  "kernelspec": {
   "display_name": "Python 3",
   "language": "python",
   "name": "python3"
  },
  "language_info": {
   "codemirror_mode": {
    "name": "ipython",
    "version": 3
   },
   "file_extension": ".py",
   "mimetype": "text/x-python",
   "name": "python",
   "nbconvert_exporter": "python",
   "pygments_lexer": "ipython3",
   "version": "3.7.6"
  }
 },
 "nbformat": 4,
 "nbformat_minor": 4
}
